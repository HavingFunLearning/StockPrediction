{
 "cells": [
  {
   "cell_type": "code",
   "execution_count": null,
   "metadata": {},
   "outputs": [],
   "source": [
    "import yfinance as yf\n",
    "from datetime import datetime, timedelta\n",
    "import matplotlib.pyplot as plt\n",
    "from statsmodels.graphics.tsaplots import plot_acf, plot_pacf\n",
    "from statsmodels.tsa.arima.model import ARIMA\n",
    "import numpy as np\n",
    "import seaborn as sns\n",
    "from tqdm import tqdm\n",
    "import pandas as pd\n",
    "from statsmodels.tools.sm_exceptions import ValueWarning, HessianInversionWarning, ConvergenceWarning\n",
    "import warnings"
   ]
  },
  {
   "cell_type": "markdown",
   "metadata": {},
   "source": [
    "# Simulation Rules:\n",
    "- if I have a stock, I sell it, store the return between the sell price and the buy price; then update the history\n",
    "- fit the ARIMA model\n",
    "- predict the next return\n",
    "- if is above a th, I buy\n",
    "\n",
    "## Plot\n",
    "- everytime I buy, I store the date\n",
    "- everytime I sell, I store the date and the return"
   ]
  },
  {
   "cell_type": "markdown",
   "metadata": {},
   "source": [
    "# Importing Data stocks"
   ]
  },
  {
   "cell_type": "code",
   "execution_count": null,
   "metadata": {},
   "outputs": [],
   "source": [
    "tickerSymbol = 'AAPL' ## APPLE stock\n",
    "data = yf.Ticker(tickerSymbol)"
   ]
  },
  {
   "cell_type": "code",
   "execution_count": null,
   "metadata": {},
   "outputs": [],
   "source": [
    "prices = data.history(start='2024-01-01', end='2024-04-01',).Close\n",
    "returns = prices.pct_change().dropna() # the percentage change between the current and prior element in the prices"
   ]
  },
  {
   "cell_type": "code",
   "execution_count": null,
   "metadata": {},
   "outputs": [],
   "source": [
    "len(returns)"
   ]
  },
  {
   "cell_type": "code",
   "execution_count": null,
   "metadata": {},
   "outputs": [],
   "source": [
    "returns.head()"
   ]
  },
  {
   "cell_type": "markdown",
   "metadata": {},
   "source": [
    "## Remarks:\n",
    "\n",
    "- use ACF to estimate the q of MA(q)\n",
    "- use PACF to estimate the k of AR(k)"
   ]
  },
  {
   "cell_type": "code",
   "execution_count": null,
   "metadata": {},
   "outputs": [],
   "source": [
    "plot_acf(returns)\n",
    "plt.show()"
   ]
  },
  {
   "cell_type": "code",
   "execution_count": null,
   "metadata": {},
   "outputs": [],
   "source": [
    "plot_pacf(returns)\n",
    "plt.show()"
   ]
  },
  {
   "cell_type": "code",
   "execution_count": null,
   "metadata": {},
   "outputs": [],
   "source": [
    "plt.figure(figsize=(18,6))\n",
    "plt.plot(prices)\n",
    "plt.title(\"APPLE STOCK\")\n",
    "plt.ylabel('Prices', fontsize=20)\n",
    "plt.show()"
   ]
  },
  {
   "cell_type": "code",
   "execution_count": null,
   "metadata": {},
   "outputs": [],
   "source": [
    "plt.figure(figsize=(18,6))\n",
    "plt.plot(returns)\n",
    "plt.ylabel('Return', fontsize=20)\n",
    "plt.show()"
   ]
  },
  {
   "cell_type": "markdown",
   "metadata": {},
   "source": [
    "# Run a simulation using the loaded data!"
   ]
  },
  {
   "cell_type": "markdown",
   "metadata": {},
   "source": [
    "# ARMA Model:\n",
    "- This assumes the data is stationary; To achieve this we use the returns instead of the actual values!"
   ]
  },
  {
   "cell_type": "code",
   "execution_count": null,
   "metadata": {},
   "outputs": [],
   "source": [
    "def run_simulation(returns, prices, amt, order, thresh, plot=True):\n",
    "    \n",
    "    # Store variables\n",
    "    curr_holding = False\n",
    "    events_list = []\n",
    "    init_amt = amt\n",
    "    buy_price = None\n",
    "\n",
    "    #go through dates\n",
    "    for date, r in tqdm (returns.iloc[14:].items(), total=len(returns.iloc[14:])):\n",
    "        #if you're currently holding the stock, sell it\n",
    "        if curr_holding:\n",
    "            sell_price = prices.loc[date]\n",
    "            curr_holding=False\n",
    "            ret = (sell_price-buy_price)/buy_price\n",
    "            amt *= (1+ret) # update the amount of money i have!\n",
    "            events_list.append(('s', date, ret)) # store the tuple (date, return)\n",
    "            \n",
    "        #get data til just before current date\n",
    "        curr_data = returns[:date]\n",
    "        print(curr_data.index)\n",
    "        \n",
    "        #fit model\n",
    "        model = ARIMA(curr_data, order=order).fit()\n",
    "\n",
    "        # predict the next return!\n",
    "        pred = model.forecast(steps = 1).iloc[0]\n",
    "    \n",
    "        #if you predict a high enough return and not holding, buy stock\n",
    "        if (not curr_holding) and (pred > thresh): \n",
    "            curr_holding = True\n",
    "            \n",
    "            buy_price = prices.loc[date]\n",
    "            events_list.append(('b', date))\n",
    "        \n",
    "    if plot:\n",
    "        plt.figure(figsize=(10,4))\n",
    "        plt.plot(prices[14:])\n",
    "\n",
    "        y_lims = (int(prices.min()*.95), int(prices.max()*1.05))\n",
    "        shaded_y_lims = int(prices.min()*.5), int(prices.max()*1.5)\n",
    "\n",
    "        # If i have a postive return i have a green area, else red area.\n",
    "        for idx, event in enumerate(events_list):\n",
    "            plt.axvline(event[1], color='k', linestyle='--', alpha=0.4)\n",
    "            if event[0] == 's':\n",
    "                color = 'green' if event[2] > 0 else 'red'\n",
    "                plt.fill_betweenx(range(*shaded_y_lims), \n",
    "                                  event[1], events_list[idx-1][1], color=color, alpha=0.1)\n",
    "\n",
    "        tot_return = round(100*(amt / init_amt - 1), 2)\n",
    "        tot_return = str(tot_return) + '%'\n",
    "        plt.title(\"%s Price Data\\nThresh=%s\\nTotal Amt: $%s\\nTotal Return: %s\"%(tickerSymbol, thresh, round(amt,2), tot_return), fontsize=20)\n",
    "        plt.ylim(*y_lims)\n",
    "        plt.show()\n",
    "    \n",
    "    return amt\n"
   ]
  },
  {
   "cell_type": "code",
   "execution_count": null,
   "metadata": {},
   "outputs": [],
   "source": [
    "warnings.filterwarnings('ignore', category=ValueWarning)\n",
    "warnings.filterwarnings('ignore', category=HessianInversionWarning)\n",
    "warnings.filterwarnings('ignore', category=ConvergenceWarning)"
   ]
  },
  {
   "cell_type": "code",
   "execution_count": null,
   "metadata": {},
   "outputs": [],
   "source": [
    "s1 = run_simulation(returns, prices, 100, (1,0,0),0,True)"
   ]
  },
  {
   "cell_type": "code",
   "execution_count": null,
   "metadata": {},
   "outputs": [],
   "source": [
    "for thresh in [0, 0.001, 0.005]:\n",
    "    s = run_simulation(returns, prices, 100, (1,0,1), thresh, plot=True)\n"
   ]
  },
  {
   "cell_type": "code",
   "execution_count": null,
   "metadata": {},
   "outputs": [],
   "source": []
  }
 ],
 "metadata": {
  "kernelspec": {
   "display_name": "Python 3",
   "language": "python",
   "name": "python3"
  },
  "language_info": {
   "codemirror_mode": {
    "name": "ipython",
    "version": 3
   },
   "file_extension": ".py",
   "mimetype": "text/x-python",
   "name": "python",
   "nbconvert_exporter": "python",
   "pygments_lexer": "ipython3",
   "version": "3.11.8"
  }
 },
 "nbformat": 4,
 "nbformat_minor": 2
}
